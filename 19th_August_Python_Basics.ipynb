{
 "cells": [
  {
   "cell_type": "markdown",
   "id": "09050fca",
   "metadata": {},
   "source": [
    "## TOPIC: Python Basics Variable"
   ]
  },
  {
   "cell_type": "raw",
   "id": "9177a865",
   "metadata": {},
   "source": [
    "1. Declare two variables, `x` and `y`, and assign them integer values. Swap the\n",
    "values of these variables without using any temporary variable.\n"
   ]
  },
  {
   "cell_type": "code",
   "execution_count": 3,
   "id": "083219fd",
   "metadata": {},
   "outputs": [
    {
     "name": "stdout",
     "output_type": "stream",
     "text": [
      "X value before swapping is  23\n",
      "Y value before swapping is  34\n",
      "\n",
      "X value after swapping is  34\n",
      "Y value after swapping is  23\n"
     ]
    }
   ],
   "source": [
    "x = 23\n",
    "y = 34\n",
    " \n",
    "print(\"X value before swapping is \",x)\n",
    "print(\"Y value before swapping is \",y)\n",
    "print()\n",
    "x = x + y\n",
    "y = x - y\n",
    "x = x - y\n",
    "\n",
    "print(\"X value after swapping is \",x)\n",
    "print(\"Y value after swapping is \",y)"
   ]
  },
  {
   "cell_type": "raw",
   "id": "3367dd96",
   "metadata": {},
   "source": [
    "2. Create a program that calculates the area of a rectangle. Take the length and\n",
    "width as inputs from the user and store them in variables. Calculate and\n",
    "display the area.\n"
   ]
  },
  {
   "cell_type": "code",
   "execution_count": 5,
   "id": "c8b8adc6",
   "metadata": {},
   "outputs": [
    {
     "name": "stdout",
     "output_type": "stream",
     "text": [
      "Enter the length of a rectangle 12\n",
      "Enter the width of a rectangle 10\n",
      "The Area of a rectangle is  120\n"
     ]
    }
   ],
   "source": [
    "length = int(input('Enter the length of a rectangle '))\n",
    "width  = int(input('Enter the width of a rectangle '))\n",
    "area = length * width\n",
    "\n",
    "print(\"The Area of a rectangle is \",area)\n"
   ]
  },
  {
   "cell_type": "raw",
   "id": "25aeee55",
   "metadata": {},
   "source": [
    "3. Write a Python program that converts temperatures from Celsius to\n",
    "Fahrenheit. Take the temperature in Celsius as input, store it in a variable,\n",
    "convert it to Fahrenheit, and display the result."
   ]
  },
  {
   "cell_type": "code",
   "execution_count": 7,
   "id": "d1027f7d",
   "metadata": {},
   "outputs": [
    {
     "name": "stdout",
     "output_type": "stream",
     "text": [
      "Enter the temperature in Celsius 37\n",
      "\n",
      "The temperature in Fahrenheit is  98.60000000000001\n"
     ]
    }
   ],
   "source": [
    "temp_celsius=int(input(\"Enter the temperature in Celsius \"))\n",
    "temp_fahrenheit = (1.8 * temp_celsius )+ 32\n",
    "print()\n",
    "\n",
    "print('The temperature in Fahrenheit is ',temp_fahrenheit)"
   ]
  },
  {
   "cell_type": "markdown",
   "id": "a0d8c878",
   "metadata": {},
   "source": [
    "## TOPIC: String Based Questions"
   ]
  },
  {
   "cell_type": "raw",
   "id": "d4e80391",
   "metadata": {},
   "source": [
    "1. Write a Python program that takes a string as input and prints the length of\n",
    "the string.\n"
   ]
  },
  {
   "cell_type": "code",
   "execution_count": 10,
   "id": "41b6a781",
   "metadata": {},
   "outputs": [
    {
     "name": "stdout",
     "output_type": "stream",
     "text": [
      "Enter the string PWSKILLS\n",
      "Length of the string is  8\n"
     ]
    }
   ],
   "source": [
    "str1 = input('Enter the string ')\n",
    "print(\"Length of the string is \",len(str1))"
   ]
  },
  {
   "cell_type": "raw",
   "id": "728dec5d",
   "metadata": {},
   "source": [
    "2. Create a program that takes a sentence from the user and counts the number\n",
    "of vowels (a, e, i, o, u) in the string.\n"
   ]
  },
  {
   "cell_type": "code",
   "execution_count": 26,
   "id": "6f9cdbe6",
   "metadata": {},
   "outputs": [
    {
     "name": "stdout",
     "output_type": "stream",
     "text": [
      "Enter the sentence :My Name is Jeevith and I am a Indian.\n",
      "The count of vowels in a entered string is  11\n"
     ]
    }
   ],
   "source": [
    "sentenc = str(input('Enter the sentence :'))\n",
    "vow = 'aeiou'\n",
    "\n",
    "count1=0\n",
    "for i in sentenc:\n",
    "    if i in vow:\n",
    "        count1 = count1+1\n",
    "    \n",
    "\n",
    "print('The count of vowels in a entered string is ',count1)\n",
    "        "
   ]
  },
  {
   "cell_type": "raw",
   "id": "dbc3576e",
   "metadata": {},
   "source": [
    "3. Given a string, reverse the order of characters using string slicing and print\n",
    "the reversed string.\n"
   ]
  },
  {
   "cell_type": "code",
   "execution_count": 46,
   "id": "aadeca7c",
   "metadata": {},
   "outputs": [
    {
     "name": "stdout",
     "output_type": "stream",
     "text": [
      "The Reversed string is  TAERG ERA SNAIDNI\n",
      "The Reversed string is  TAERG ERA SNAIDNI\n"
     ]
    }
   ],
   "source": [
    "str1 = 'INDIANS ARE GREAT'\n",
    "\n",
    "print('The Reversed string is ',str1[-1:-(len(str1)+1):-1])\n",
    "print('The Reversed string is ',str1[::-1])"
   ]
  },
  {
   "cell_type": "raw",
   "id": "a6f045d4",
   "metadata": {},
   "source": [
    "4. Write a program that takes a string as input and checks if it is a palindrome\n",
    "(reads the same forwards and backwards).\n"
   ]
  },
  {
   "cell_type": "code",
   "execution_count": 54,
   "id": "2fc49009",
   "metadata": {},
   "outputs": [
    {
     "name": "stdout",
     "output_type": "stream",
     "text": [
      "Enter the String MADAM\n",
      "It is a Palindrome\n"
     ]
    }
   ],
   "source": [
    "str1 = input('Enter the String ')\n",
    "str1=str1.lower()\n",
    "if str1==str1[::-1]:\n",
    "    print('It is a Palindrome')\n",
    "else:\n",
    "    print('Not a Palindrome')\n",
    "    "
   ]
  },
  {
   "cell_type": "raw",
   "id": "ec35a216",
   "metadata": {},
   "source": [
    "5. Create a program that takes a string as input and removes all the spaces from\n",
    "it. Print the modified string without spaces."
   ]
  },
  {
   "cell_type": "code",
   "execution_count": 62,
   "id": "b915e292",
   "metadata": {},
   "outputs": [
    {
     "name": "stdout",
     "output_type": "stream",
     "text": [
      "    hj wd q  a a a a d f f s.     \n",
      "The modified string without spaces is hjwdqaaaadffs.\n"
     ]
    }
   ],
   "source": [
    "str2= input()\n",
    "\n",
    "print(\"The modified string without spaces is\",str2.replace(\" \",\"\"))"
   ]
  },
  {
   "cell_type": "code",
   "execution_count": null,
   "id": "ee692980",
   "metadata": {},
   "outputs": [],
   "source": []
  }
 ],
 "metadata": {
  "kernelspec": {
   "display_name": "Python 3 (ipykernel)",
   "language": "python",
   "name": "python3"
  },
  "language_info": {
   "codemirror_mode": {
    "name": "ipython",
    "version": 3
   },
   "file_extension": ".py",
   "mimetype": "text/x-python",
   "name": "python",
   "nbconvert_exporter": "python",
   "pygments_lexer": "ipython3",
   "version": "3.9.12"
  }
 },
 "nbformat": 4,
 "nbformat_minor": 5
}
